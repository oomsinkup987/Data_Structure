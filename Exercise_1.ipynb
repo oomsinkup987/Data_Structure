{
 "cells": [
  {
   "cell_type": "markdown",
   "metadata": {},
   "source": [
    "# Exercise Question1-10\n"
   ]
  },
  {
   "cell_type": "markdown",
   "metadata": {},
   "source": [
    "#    Pawichet Yamthiang No. 25\n",
    "##       STU_ID 6310301025 "
   ]
  },
  {
   "cell_type": "markdown",
   "metadata": {},
   "source": [
    "## Exercise Question 1 : Given a two list.Create a third list by picking an odd-index element from the frist list and even index element form second."
   ]
  },
  {
   "cell_type": "code",
   "execution_count": 2,
   "metadata": {},
   "outputs": [
    {
     "name": "stdout",
     "output_type": "stream",
     "text": [
      "Element at odd-index position from list one\n",
      "[6, 12, 18]\n",
      "Element a even-index position from list two\n",
      "[4, 12, 20, 28]\n",
      "Printing final thord list \n",
      "[6, 12, 18, 4, 12, 20, 28]\n"
     ]
    }
   ],
   "source": [
    "list_f = [3,6,9,12,15,18,21]\n",
    "list_s = [4,8,12,16,20,24,28]\n",
    "listThree,listThree_1,listThree_2 = [],[],[]\n",
    "\n",
    "print(\"Element at odd-index position from list one\")\n",
    "for i in range(1,len(list_f)):\n",
    "    if i % 2 == 0 :\n",
    "        listThree_1.append(list_f[i-1])\n",
    "print(listThree_1)\n",
    "    \n",
    "print(\"Element a even-index position from list two\")\n",
    "for i in range(1,len(list_s)+1):\n",
    "    if i % 2 != 0 :\n",
    "        listThree_2.append(list_s[i-1])\n",
    "print(listThree_2)\n",
    "\n",
    "print(\"Printing final thord list \")\n",
    "listThree = [i for i in listThree_1]\n",
    "listThree += [ i for i in listThree_2]\n",
    "print(listThree)"
   ]
  },
  {
   "cell_type": "markdown",
   "metadata": {},
   "source": [
    "## Exercies Question 2 : given an input list removes the element at index 4 and add it to the 2nd position and also ,at the end of the list"
   ]
  },
  {
   "cell_type": "code",
   "execution_count": 6,
   "metadata": {},
   "outputs": [
    {
     "name": "stdout",
     "output_type": "stream",
     "text": [
      "Default List [34, 54, 67, 89, 11, 43, 94]\n",
      "List After removing element at index 4  [34, 54, 67, 89, 43, 94]\n",
      "List After Adding element at index 2 [34, 54, 11, 67, 89, 43, 94]\n",
      "List after Adding element at list [34, 54, 11, 67, 89, 43, 94, 11]\n"
     ]
    }
   ],
   "source": [
    "List_1  = [34,54,67,89,11,43,94]\n",
    "print(\"Default List\",List_1)\n",
    "\n",
    "new = List_1[4]\n",
    "List_1.remove(new)\n",
    "print('List After removing element at index 4 ',List_1)\n",
    "List_1.insert(2,new)\n",
    "print('List After Adding element at index 2',List_1)\n",
    "List_1.append(new)\n",
    "print(\"List after Adding element at list\",List_1)"
   ]
  },
  {
   "cell_type": "markdown",
   "metadata": {},
   "source": [
    "## Exercise Question 3 : Given a list slice It into a 3 equal chunks and reverse each list"
   ]
  },
  {
   "cell_type": "code",
   "execution_count": 8,
   "metadata": {},
   "outputs": [
    {
     "name": "stdout",
     "output_type": "stream",
     "text": [
      "Default list [11, 45, 8, 23, 14, 12, 78, 45, 89]\n",
      "Chunk 1 [11, 45, 8]\n",
      "After reversing it [8, 45, 11]\n",
      "Chunk 2 [23, 14, 12]\n",
      "After reversing it [12, 14, 23]\n",
      "Chunk 3 [78, 45, 89]\n",
      "After reversing it [89, 45, 78]\n"
     ]
    }
   ],
   "source": [
    "sam_List = [11,45,8,23,14,12,78,45,89]\n",
    "print(\"Default list\",sam_List)\n",
    "a,b,c = 1,2,[]\n",
    "while sam_List != []:\n",
    "    c = sam_List[:3]\n",
    "    sam_List = sam_List[b+1:]\n",
    "    print('Chunk',a,c)\n",
    "    c.reverse()\n",
    "    print('After reversing it',c)\n",
    "    a += 1"
   ]
  },
  {
   "cell_type": "markdown",
   "metadata": {},
   "source": [
    "## Exercise Question 4 : Given a list iterate it and count the occurrence of each element and create a dictionary to show the count of each element "
   ]
  },
  {
   "cell_type": "code",
   "execution_count": 10,
   "metadata": {},
   "outputs": [
    {
     "name": "stdout",
     "output_type": "stream",
     "text": [
      "Default list [11, 45, 8, 11, 23, 45, 23, 45, 89]\n",
      "Printing count of each item {11: 2, 45: 3, 8: 1, 23: 2, 89: 1}\n"
     ]
    }
   ],
   "source": [
    "List = [11,45,8,11,23,45,23,45,89]\n",
    "print(\"Default list\",List)\n",
    "dis = {}\n",
    "while List != []:\n",
    "    count = [i for i in List if i == List[0]]\n",
    "    dis.update({List[0]:len(count)})\n",
    "    tmp = List[0]\n",
    "    for i in range(len(count)) :\n",
    "        List.remove(tmp)\n",
    "print(\"Printing count of each item\",dis)"
   ]
  },
  {
   "cell_type": "markdown",
   "metadata": {},
   "source": [
    "## Exercise Question 5 : Given a list of equal size create a set such that it shows the element from both the first set"
   ]
  },
  {
   "cell_type": "code",
   "execution_count": 12,
   "metadata": {},
   "outputs": [
    {
     "name": "stdout",
     "output_type": "stream",
     "text": [
      "First List [2, 3, 4, 5, 6, 7, 8]\n",
      "second [4, 9, 16, 25, 36, 49, 64]\n",
      "Result is {(6, 36), (8, 64), (4, 16), (5, 25), (3, 9), (7, 49), (2, 4)}\n"
     ]
    }
   ],
   "source": [
    "f_list = [2,3,4,5,6,7,8]\n",
    "s_list = [4,9,16,25,36,49,64]\n",
    "result = set()\n",
    "for i in f_list :\n",
    "    if (i*i) in s_list :\n",
    "        result.add(tuple([i,s_list[s_list.index(i*i)]]))\n",
    "print(\"First List\",f_list)\n",
    "print(\"second\",s_list)\n",
    "print(\"Result is\",result)"
   ]
  },
  {
   "cell_type": "markdown",
   "metadata": {},
   "source": [
    "## Exercise Question 6 : Given a following two sets find the intersection and remove those elements from the first set"
   ]
  },
  {
   "cell_type": "code",
   "execution_count": 15,
   "metadata": {},
   "outputs": [
    {
     "name": "stdout",
     "output_type": "stream",
     "text": [
      "First Set : 65 42 78 83 23 57 29 \n",
      "Second Set : 67 73 43 48 83 57 29 \n",
      "Intersection is  : 83 57 29 \n",
      "First Set after removing common element : 8 "
     ]
    }
   ],
   "source": [
    "first_set = {65,42,78,83,23,57,29}\n",
    "Second_set = {67,73,43,48,83,57,29}\n",
    "result = set()\n",
    "print(\"First Set : \",end=\"\")\n",
    "for a in first_set :\n",
    "    print(a,end=\" \")\n",
    "\n",
    "print(\"\\nSecond Set : \",end=\"\")\n",
    "for b in Second_set :\n",
    "    print(b,end=\" \")\n",
    "    \n",
    "print(\"\\nIntersection is  : \",end=\"\")\n",
    "for c in  first_set :\n",
    "    if c in Second_set :\n",
    "        print(c,end=\" \")\n",
    "    else:\n",
    "        result.add(i)\n",
    "\n",
    "print(\"\\nFirst Set after removing common element : \",end=\"\")\n",
    "for i in result :\n",
    "    print(i,end=\" \")"
   ]
  },
  {
   "cell_type": "markdown",
   "metadata": {},
   "source": [
    "## Exercise Question 7 : Given two sets,Checks if One Set is Subset or superset or superset of Another Set .if the subset is found delete all element from that set"
   ]
  },
  {
   "cell_type": "code",
   "execution_count": 37,
   "metadata": {},
   "outputs": [
    {
     "name": "stdout",
     "output_type": "stream",
     "text": [
      "\n",
      "First Set  57 83 29 \n",
      "Second Set  67 73 43 48 83 57 29 \n",
      "\n",
      "First set is subset of second set:  True\n",
      "Second set is subset of first set:  False\n",
      "\n",
      "First set is subset of second set:  False\n",
      "Second set is subset of first set:  True\n",
      "\n",
      "First Set  \n",
      "Second Set  67 73 43 48 83 57 29 "
     ]
    }
   ],
   "source": [
    "first_set = {57,83,29}\n",
    "second = {67,73,43,48,83,57,29}\n",
    "\n",
    "print(\"\\nFirst Set \",end=\" \")\n",
    "for i in frist :\n",
    "    print(i,end=\" \")\n",
    "    \n",
    "print(\"\\nSecond Set \",end=\" \")\n",
    "for i in seccond :\n",
    "    print(i,end=\" \")\n",
    "    \n",
    "print(\"\\n\\nFirst set is subset of second set: \",frist.issubset(seccond))\n",
    "print(\"Second set is subset of first set: \",seccond.issubset(frist))\n",
    "print(\"\\nFirst set is subset of second set: \",frist.issuperset(seccond))\n",
    "print(\"Second set is subset of first set: \",seccond.issuperset(frist))\n",
    "\n",
    "print(\"\\nFirst Set \",end=\" \")\n",
    "print(\"\\nSecond Set \",end=\" \")\n",
    "for i in seccond :\n",
    "    print(i,end=\" \")"
   ]
  },
  {
   "cell_type": "markdown",
   "metadata": {},
   "source": [
    "## Excercise Qquestion 8 : Iterate a given list and Check if a given elemant already in a dictionary as a key's value if not delete it from the list "
   ]
  },
  {
   "cell_type": "code",
   "execution_count": 39,
   "metadata": {},
   "outputs": [
    {
     "name": "stdout",
     "output_type": "stream",
     "text": [
      "Given: \n",
      "rollNumber =  [47, 64, 69, 39, 76, 83, 95, 97]\n",
      "sampleDict =  {'jhon': 47, 'Emma': 69, 'Kelly': 76, 'Kason': 97}\n",
      "\n",
      "Expected Outcome:\n",
      "after removing unwanted element from list   [47, 69, 76, 97]\n"
     ]
    }
   ],
   "source": [
    "rollNumber = [47,64,69,39,76,83,95,97]\n",
    "sampleDict = {'jhon':47,'Emma':69,'Kelly':76,'Kason':97}\n",
    "print(\"Given: \")\n",
    "print('rollNumber = ',rollNumber)\n",
    "print('sampleDict = ',sampleDict)\n",
    "print(\"\\nExpected Outcome:\")\n",
    "ex = sampleDict.values()\n",
    "ex2 = [47,64,69,39,76,83,95,97]\n",
    "for i in range(len(ex2)) :\n",
    "    if ex2[i] not in ex :\n",
    "        rollNumber.remove(ex2[i])\n",
    "print('after removing unwanted element from list  ',rollNumber)"
   ]
  },
  {
   "cell_type": "markdown",
   "metadata": {},
   "source": [
    "## Exercise Question 9 : Given a dictionary get all values from the dictionary and add it in a list but don't add duplicates "
   ]
  },
  {
   "cell_type": "code",
   "execution_count": 41,
   "metadata": {},
   "outputs": [
    {
     "data": {
      "text/plain": [
       "[47, 52, 44, 53, 54]"
      ]
     },
     "execution_count": 41,
     "metadata": {},
     "output_type": "execute_result"
    }
   ],
   "source": [
    "speed = {'jan':47,'feb':52,'march':47,'April':44,'May':52,'June':53,'july':54,'Aug':44,'Sept':54}\n",
    "new = speed.values()\n",
    "ex = []\n",
    "for i in new :\n",
    "    if i not in ex :\n",
    "        ex.append(i)\n",
    "ex"
   ]
  },
  {
   "cell_type": "markdown",
   "metadata": {},
   "source": [
    "## Exercise Question 10 : Remove duplicate from a list and create a tuple and find the minimum and maximum number"
   ]
  },
  {
   "cell_type": "code",
   "execution_count": 52,
   "metadata": {},
   "outputs": [
    {
     "name": "stdout",
     "output_type": "stream",
     "text": [
      "For Example\n",
      "\tsampleList =  [87, 45, 41, 65, 94, 41, 99, 94]\n",
      "\n",
      "Expected Outcome\n",
      "\tUnique items is:  94\n",
      "\tTuple =  (87, 45, 41, 65, 94, 41, 99, 94)\n",
      "\tMin:  41 \n",
      "\tMax:  99\n"
     ]
    }
   ],
   "source": [
    "sample_list = [87,45,41,65,94,41,99,94]\n",
    "print(\"For Example\")\n",
    "print(\"\\tsampleList = \",sample_list)\n",
    "ex = []\n",
    "for k in sample_list :\n",
    "    if k not in ex :\n",
    "        ex.append(k)\n",
    "sample = ex\n",
    "print(\"\\nExpected Outcome\")\n",
    "print(\"\\tUnique items is: \",k)\n",
    "print(\"\\tTuple = \",tuple(sample_list))\n",
    "print(\"\\tMin: \",min(sample_list),'\\n\\tMax: ',max(sample_list))"
   ]
  },
  {
   "cell_type": "code",
   "execution_count": null,
   "metadata": {},
   "outputs": [],
   "source": []
  }
 ],
 "metadata": {
  "kernelspec": {
   "display_name": "Python 3",
   "language": "python",
   "name": "python3"
  },
  "language_info": {
   "codemirror_mode": {
    "name": "ipython",
    "version": 3
   },
   "file_extension": ".py",
   "mimetype": "text/x-python",
   "name": "python",
   "nbconvert_exporter": "python",
   "pygments_lexer": "ipython3",
   "version": "3.7.6"
  }
 },
 "nbformat": 4,
 "nbformat_minor": 4
}
